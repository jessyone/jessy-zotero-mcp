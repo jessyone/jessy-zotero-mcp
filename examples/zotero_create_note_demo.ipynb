{
  "cells": [
    {
      "cell_type": "code",
      "execution_count": null,
      "metadata": {
        "vscode": {
          "languageId": "plaintext"
        }
      },
      "outputs": [],
      "source": [
        "# Zotero MCP - Create Note 功能演示\n",
        "\n",
        "这个 notebook 演示了如何使用 Zotero MCP 中的 `zotero_create_note` 功能。我们将展示各种使用场景，从简单的笔记创建到更复杂的应用场景。\n"
      ]
    },
    {
      "cell_type": "code",
      "execution_count": null,
      "metadata": {
        "vscode": {
          "languageId": "plaintext"
        }
      },
      "outputs": [],
      "source": [
        "## 环境设置\n",
        "\n",
        "首先，我们需要设置必要的环境变量和导入必要的库。\n"
      ]
    },
    {
      "cell_type": "code",
      "execution_count": null,
      "metadata": {},
      "outputs": [],
      "source": [
        "import os\n",
        "import json\n",
        "import requests\n",
        "from dotenv import load_dotenv\n",
        "\n",
        "# 加载环境变量\n",
        "load_dotenv()\n",
        "\n",
        "# 设置 MCP 服务器 URL\n",
        "MCP_SERVER_URL = os.getenv(\"MCP_SERVER_URL\", \"http://localhost:8000\")\n"
      ]
    },
    {
      "cell_type": "code",
      "execution_count": null,
      "metadata": {},
      "outputs": [],
      "source": [
        "## 定义辅助函数\n",
        "\n",
        "下面我们定义一些辅助函数，用于与 MCP 服务器通信并调用 Zotero 工具。\n"
      ]
    },
    {
      "cell_type": "code",
      "execution_count": null,
      "metadata": {},
      "outputs": [],
      "source": [
        "def call_mcp_tool(tool_name, arguments):\n",
        "    \"\"\"调用 MCP 工具的通用函数\"\"\"\n",
        "    payload = {\n",
        "        \"tool\": tool_name,\n",
        "        \"arguments\": arguments\n",
        "    }\n",
        "    \n",
        "    response = requests.post(\n",
        "        f\"{MCP_SERVER_URL}/tools\",\n",
        "        json=payload,\n",
        "        headers={\"Content-Type\": \"application/json\"}\n",
        "    )\n",
        "    \n",
        "    return response.json()\n",
        "\n",
        "def create_note(item_key, note_title, note_text, tags=None):\n",
        "    \"\"\"创建一条 Zotero 笔记\"\"\"\n",
        "    arguments = {\n",
        "        \"item_key\": item_key,\n",
        "        \"note_title\": note_title,\n",
        "        \"note_text\": note_text\n",
        "    }\n",
        "    \n",
        "    if tags:\n",
        "        arguments[\"tags\"] = tags\n",
        "    \n",
        "    return call_mcp_tool(\"zotero_create_note\", arguments)\n",
        "\n",
        "def search_items(query, limit=5):\n",
        "    \"\"\"搜索 Zotero 条目\"\"\"\n",
        "    return call_mcp_tool(\"zotero_search_items\", {\"query\": query, \"limit\": limit})\n"
      ]
    },
    {
      "cell_type": "code",
      "execution_count": null,
      "metadata": {},
      "outputs": [],
      "source": [
        "## 验证 MCP 服务器连接\n",
        "\n",
        "在继续之前，让我们先验证 MCP 服务器是否正在运行并且可以连接。\n"
      ]
    },
    {
      "cell_type": "code",
      "execution_count": null,
      "metadata": {},
      "outputs": [],
      "source": [
        "try:\n",
        "    # 尝试获取最近的条目，仅用于测试连接\n",
        "    response = call_mcp_tool(\"zotero_get_recent\", {\"limit\": 1})\n",
        "    print(\"MCP 服务器连接成功\")\n",
        "    print(\"API 响应:\")\n",
        "    print(json.dumps(response, indent=2, ensure_ascii=False)[:500] + \"...\")\n",
        "except Exception as e:\n",
        "    print(f\"错误: 无法连接到 MCP 服务器: {e}\")\n",
        "    print(\"请确保 MCP 服务器正在运行，并且可以在配置的 URL 访问。\")\n"
      ]
    },
    {
      "cell_type": "code",
      "execution_count": null,
      "metadata": {},
      "outputs": [],
      "source": [
        "## 1. 查找条目\n",
        "\n",
        "在创建笔记之前，我们需要知道要为哪个条目创建笔记。让我们先搜索一些条目。\n"
      ]
    },
    {
      "cell_type": "code",
      "execution_count": null,
      "metadata": {},
      "outputs": [],
      "source": [
        "# 搜索与\"机器学习\"相关的条目\n",
        "search_results = search_items(\"机器学习\")\n",
        "print(search_results.get(\"result\", \"未找到任何条目\"))\n"
      ]
    },
    {
      "cell_type": "code",
      "execution_count": null,
      "metadata": {},
      "outputs": [],
      "source": [
        "在上面的结果中找到一个条目的键，我们将使用它来创建笔记。\n",
        "\n",
        "如果您没有看到任何条目，请尝试搜索其他关键词或直接输入您知道的条目键。\n"
      ]
    },
    {
      "cell_type": "code",
      "execution_count": null,
      "metadata": {},
      "outputs": [],
      "source": [
        "# 设置您要使用的条目键\n",
        "target_item_key = \"YOUR_ITEM_KEY_HERE\"  # 替换为您的条目键\n",
        "\n",
        "# 验证条目存在并获取详细信息\n",
        "item_details = call_mcp_tool(\"zotero_get_item_metadata\", {\"item_key\": target_item_key})\n",
        "print(item_details.get(\"result\", \"未找到条目\"))\n"
      ]
    },
    {
      "cell_type": "code",
      "execution_count": null,
      "metadata": {},
      "outputs": [],
      "source": [
        "## 2. 创建简单笔记\n",
        "\n",
        "现在我们将为选定的条目创建一条简单的笔记。\n"
      ]
    },
    {
      "cell_type": "code",
      "execution_count": null,
      "metadata": {},
      "outputs": [],
      "source": [
        "# 创建简单的纯文本笔记\n",
        "note_title = \"简单笔记示例\"\n",
        "note_text = \"这是一个简单的笔记。\\n\\n它包含两个段落。\"\n",
        "tags = [\"示例\", \"MCP\"]\n",
        "\n",
        "result = create_note(target_item_key, note_title, note_text, tags)\n",
        "print(result.get(\"result\", \"创建笔记失败\"))\n"
      ]
    },
    {
      "cell_type": "code",
      "execution_count": null,
      "metadata": {},
      "outputs": [],
      "source": [
        "## 3. 创建格式化的笔记\n",
        "\n",
        "接下来，我们将创建一个包含丰富 HTML 格式的笔记。\n"
      ]
    },
    {
      "cell_type": "code",
      "execution_count": null,
      "metadata": {},
      "outputs": [],
      "source": [
        "# 创建富文本格式笔记\n",
        "formatted_note_title = \"格式化笔记示例\"\n",
        "formatted_note_text = \"\"\"\n",
        "<h1>文献研究笔记</h1>\n",
        "<p><strong>核心观点</strong>：这篇文献提出了一种新的方法来解决特定问题。</p>\n",
        "\n",
        "<h2>主要贡献</h2>\n",
        "<ol>\n",
        "  <li>提出了新算法 X，比现有方法提高了性能</li>\n",
        "  <li>证明了理论 Y 在特定条件下的适用性</li>\n",
        "  <li>提供了大规模实验验证</li>\n",
        "</ol>\n",
        "\n",
        "<h2>关键引用</h2>\n",
        "<ul>\n",
        "  <li>Smith et al. (2020) - 基础理论</li>\n",
        "  <li>Zhang and Wang (2021) - 比较方法</li>\n",
        "</ul>\n",
        "\n",
        "<p><em>待办事项</em>: 阅读参考文献 #3 和 #7</p>\n",
        "\"\"\"\n",
        "\n",
        "tags = [\"研究\", \"重要\", \"待跟进\"]\n",
        "\n",
        "result = create_note(target_item_key, formatted_note_title, formatted_note_text, tags)\n",
        "print(result.get(\"result\", \"创建笔记失败\"))\n"
      ]
    },
    {
      "cell_type": "code",
      "execution_count": null,
      "metadata": {},
      "outputs": [],
      "source": [
        "## 4. 使用 AI 生成的内容创建笔记\n",
        "\n",
        "在这个示例中，我们将演示如何使用 AI（如大型语言模型）生成笔记内容，然后通过 MCP 保存到 Zotero。\n",
        "\n",
        "注意：此示例假设您有访问 OpenAI API 的权限，并且已经安装了必要的库。\n"
      ]
    },
    {
      "cell_type": "code",
      "execution_count": null,
      "metadata": {},
      "outputs": [],
      "source": [
        "# 仅在有 OpenAI 库时执行\n",
        "try:\n",
        "    import openai\n",
        "    \n",
        "    # 设置 OpenAI API 密钥\n",
        "    openai.api_key = os.getenv(\"OPENAI_API_KEY\")\n",
        "    \n",
        "    # 如果已经设置了 API 密钥，继续执行；否则跳过\n",
        "    if openai.api_key:\n",
        "        # 获取条目信息作为 AI 的输入\n",
        "        item_info = item_details.get(\"result\", \"\")\n",
        "        \n",
        "        if item_info:\n",
        "            # 调用 OpenAI API\n",
        "            response = openai.chat.completions.create(\n",
        "                model=\"gpt-3.5-turbo\",\n",
        "                messages=[\n",
        "                    {\"role\": \"system\", \"content\": \"您是一位学术研究助手，专长于提取和总结学术文献的核心观点和贡献。\"},\n",
        "                    {\"role\": \"user\", \"content\": f\"基于以下文献信息，生成一个结构化的研究笔记，包括：1) 主要研究问题，2) 核心方法，3) 主要发现，4) 可能的研究局限性，5) 未来研究方向。请使用HTML格式，添加适当的标题和列表。\\n\\n{item_info}\"}\n",
        "                ]\n",
        "            )\n",
        "            \n",
        "            # 提取 AI 生成的笔记内容\n",
        "            ai_note_content = response.choices[0].message.content\n",
        "            \n",
        "            # 创建笔记\n",
        "            ai_note_title = \"AI生成的文献笔记\"\n",
        "            result = create_note(target_item_key, ai_note_title, ai_note_content, [\"AI生成\", \"自动笔记\"])\n",
        "            print(result.get(\"result\", \"创建笔记失败\"))\n",
        "            \n",
        "            # 显示 AI 生成的内容\n",
        "            print(\"\\nAI 生成的笔记内容预览:\\n\")\n",
        "            print(ai_note_content[:500] + \"...\")\n",
        "        else:\n",
        "            print(\"无法获取条目信息作为 AI 输入\")\n",
        "    else:\n",
        "        print(\"未设置 OpenAI API 密钥，跳过 AI 笔记生成示例\")\n",
        "except ImportError:\n",
        "    print(\"未安装 openai 库，跳过 AI 笔记生成示例\")\n",
        "except Exception as e:\n",
        "    print(f\"AI 笔记生成过程中出错: {str(e)}\")\n"
      ]
    },
    {
      "cell_type": "code",
      "execution_count": null,
      "metadata": {},
      "outputs": [],
      "source": [
        "## 5. 批量创建笔记\n",
        "\n",
        "下面我们演示如何批量为多个条目创建笔记。\n"
      ]
    },
    {
      "cell_type": "code",
      "execution_count": null,
      "metadata": {},
      "outputs": [],
      "source": [
        "# 模拟批量处理数据\n",
        "batch_notes = [\n",
        "    {\n",
        "        \"item_key\": target_item_key,  # 使用前面找到的条目键，在实际应用中应该是不同的键\n",
        "        \"title\": \"批量笔记 1\",\n",
        "        \"text\": \"这是批量创建的第一条笔记。\",\n",
        "        \"tags\": [\"批量\", \"组1\"]\n",
        "    },\n",
        "    {\n",
        "        \"item_key\": target_item_key,  # 在实际应用中应该是不同的键\n",
        "        \"title\": \"批量笔记 2\",\n",
        "        \"text\": \"这是批量创建的第二条笔记。\",\n",
        "        \"tags\": [\"批量\", \"组2\"]\n",
        "    }\n",
        "]\n",
        "\n",
        "# 批量处理\n",
        "results = []\n",
        "for note_data in batch_notes:\n",
        "    result = create_note(\n",
        "        note_data[\"item_key\"],\n",
        "        note_data[\"title\"],\n",
        "        note_data[\"text\"],\n",
        "        note_data[\"tags\"]\n",
        "    )\n",
        "    results.append(result)\n",
        "    print(f\"处理 {note_data['title']}: {result.get('result', '失败')}\")\n"
      ]
    },
    {
      "cell_type": "code",
      "execution_count": null,
      "metadata": {},
      "outputs": [],
      "source": [
        "## 6. 从已有笔记中导入内容\n",
        "\n",
        "这个示例演示如何从现有文件导入内容，并创建 Zotero 笔记。\n"
      ]
    },
    {
      "cell_type": "code",
      "execution_count": null,
      "metadata": {},
      "outputs": [],
      "source": [
        "# 创建一个示例笔记文件\n",
        "with open(\"sample_note.md\", \"w\") as f:\n",
        "    f.write(\"\"\"\n",
        "# 导入的研究笔记\n",
        "\n",
        "这是一个从外部文件导入的笔记示例。\n",
        "\n",
        "## 关键点\n",
        "\n",
        "- 点1: 重要观察\n",
        "- 点2: 值得注意的数据\n",
        "- 点3: 相关结论\n",
        "\n",
        "## 参考信息\n",
        "\n",
        "页码: 145-148\n",
        "章节: 第7章\n",
        "\"\"\")\n"
      ]
    },
    {
      "cell_type": "code",
      "execution_count": null,
      "metadata": {},
      "outputs": [],
      "source": [
        "# 从文件导入笔记内容\n",
        "try:\n",
        "    from markdown2 import Markdown\n",
        "    \n",
        "    # 读取 Markdown 文件\n",
        "    with open(\"sample_note.md\", \"r\") as f:\n",
        "        md_content = f.read()\n",
        "    \n",
        "    # 将 Markdown 转换为 HTML\n",
        "    markdowner = Markdown()\n",
        "    html_content = markdowner.convert(md_content)\n",
        "    \n",
        "    # 创建笔记\n",
        "    imported_note_title = \"导入的文件笔记\"\n",
        "    result = create_note(target_item_key, imported_note_title, html_content, [\"导入\", \"外部源\"])\n",
        "    print(result.get(\"result\", \"创建笔记失败\"))\n",
        "except ImportError:\n",
        "    print(\"未安装 markdown2 库，使用普通文本导入\")\n",
        "    \n",
        "    # 使用普通文本\n",
        "    with open(\"sample_note.md\", \"r\") as f:\n",
        "        text_content = f.read()\n",
        "    \n",
        "    result = create_note(target_item_key, \"导入的文本文件笔记\", text_content, [\"导入\", \"外部源\"])\n",
        "    print(result.get(\"result\", \"创建笔记失败\"))\n"
      ]
    },
    {
      "cell_type": "code",
      "execution_count": null,
      "metadata": {},
      "outputs": [],
      "source": [
        "## 7. 错误处理示例\n",
        "\n",
        "下面我们演示如何处理常见的错误情况。\n"
      ]
    },
    {
      "cell_type": "code",
      "execution_count": null,
      "metadata": {},
      "outputs": [],
      "source": [
        "# 尝试为不存在的条目创建笔记\n",
        "invalid_key = \"INVALID_ITEM_KEY_12345\"\n",
        "result = create_note(invalid_key, \"错误测试笔记\", \"此笔记不应该创建成功\")\n",
        "print(f\"使用无效条目键的结果: {result.get('result', '未知错误')}\")\n"
      ]
    },
    {
      "cell_type": "code",
      "execution_count": null,
      "metadata": {},
      "outputs": [],
      "source": [
        "## 总结\n",
        "\n",
        "在本演示中，我们展示了如何使用 Zotero MCP 中的 `zotero_create_note` 功能来：\n",
        "\n",
        "1. 创建简单的纯文本笔记\n",
        "2. 创建富 HTML 格式的笔记\n",
        "3. 使用 AI 生成笔记内容（如果有 OpenAI API 访问权限）\n",
        "4. 批量创建多个笔记\n",
        "5. 从外部文件导入笔记内容\n",
        "6. 处理常见错误情况\n",
        "\n",
        "这些示例应该能帮助您在自己的应用程序中集成 Zotero 笔记创建功能。\n"
      ]
    }
  ],
  "metadata": {
    "language_info": {
      "name": "python"
    }
  },
  "nbformat": 4,
  "nbformat_minor": 2
}
